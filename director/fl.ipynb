{
 "cells": [
  {
   "cell_type": "code",
   "execution_count": 25,
   "metadata": {},
   "outputs": [],
   "source": [
    "import tensorflow as tf\n",
    "#import tensorflow_federated as tff\n",
    "from tensorflow.keras.applications import VGG16, MobileNetV3Small, MobileNetV2\n",
    "from tensorflow import keras\n",
    "from tensorflow.keras import layers"
   ]
  },
  {
   "cell_type": "code",
   "execution_count": 2,
   "metadata": {},
   "outputs": [],
   "source": [
    "IMAGE_SIZE=256"
   ]
  },
  {
   "cell_type": "code",
   "execution_count": 3,
   "metadata": {},
   "outputs": [
    {
     "name": "stdout",
     "output_type": "stream",
     "text": [
      "Metal device set to: Apple M1 Pro\n",
      "\n",
      "systemMemory: 16.00 GB\n",
      "maxCacheSize: 5.33 GB\n",
      "\n"
     ]
    },
    {
     "name": "stderr",
     "output_type": "stream",
     "text": [
      "2022-05-06 15:31:57.578585: I tensorflow/core/common_runtime/pluggable_device/pluggable_device_factory.cc:305] Could not identify NUMA node of platform GPU ID 0, defaulting to 0. Your kernel may not have been built with NUMA support.\n",
      "2022-05-06 15:31:57.578858: I tensorflow/core/common_runtime/pluggable_device/pluggable_device_factory.cc:271] Created TensorFlow device (/job:localhost/replica:0/task:0/device:GPU:0 with 0 MB memory) -> physical PluggableDevice (device: 0, name: METAL, pci bus id: <undefined>)\n"
     ]
    }
   ],
   "source": [
    "data_augmentation = keras.Sequential(\n",
    "[layers.RandomFlip(\"horizontal\"), layers.RandomCrop(IMAGE_SIZE, IMAGE_SIZE), layers.RandomRotation(0.1)]\n",
    ")"
   ]
  },
  {
   "cell_type": "code",
   "execution_count": 4,
   "metadata": {},
   "outputs": [
    {
     "name": "stdout",
     "output_type": "stream",
     "text": [
      "WARNING:tensorflow:`input_shape` is undefined or non-square, or `rows` is not 224. Weights for input shape (224, 224) will be loaded as the default.\n"
     ]
    }
   ],
   "source": [
    "base_model = MobileNetV3Small(weights='imagenet', input_shape=(IMAGE_SIZE, IMAGE_SIZE, 3), include_top=False)\n",
    "#base_model = MobileNetV2(weights='imagenet', input_shape=(IMAGE_SIZE, IMAGE_SIZE, 3), include_top=False)\n",
    "base_model.trainable = False"
   ]
  },
  {
   "cell_type": "code",
   "execution_count": 17,
   "metadata": {},
   "outputs": [],
   "source": [
    "import glob, cv2\n",
    "import numpy as np\n",
    "\n",
    "files = []\n",
    "files.extend(glob.glob(\"dataset/client1/*.bmp\"))\n",
    "\n",
    "images = np.array([cv2.resize(cv2.imread(file),(IMAGE_SIZE, IMAGE_SIZE)) for file in files])\n",
    "label= np.ones((len(images), 1))"
   ]
  },
  {
   "cell_type": "code",
   "execution_count": 19,
   "metadata": {},
   "outputs": [
    {
     "data": {
      "text/plain": [
       "(15, 1)"
      ]
     },
     "execution_count": 19,
     "metadata": {},
     "output_type": "execute_result"
    }
   ],
   "source": [
    "images.shape\n",
    "label.shape"
   ]
  },
  {
   "cell_type": "code",
   "execution_count": 24,
   "metadata": {},
   "outputs": [
    {
     "name": "stdout",
     "output_type": "stream",
     "text": [
      "Model: \"model_2\"\n",
      "_________________________________________________________________\n",
      " Layer (type)                Output Shape              Param #   \n",
      "=================================================================\n",
      " input_7 (InputLayer)        [(None, 256, 256, 3)]     0         \n",
      "                                                                 \n",
      " rescaling_6 (Rescaling)     (None, 256, 256, 3)       0         \n",
      "                                                                 \n",
      " MobilenetV3small (Functiona  (None, 8, 8, 576)        939120    \n",
      " l)                                                              \n",
      "                                                                 \n",
      " global_average_pooling2d_2   (None, 576)              0         \n",
      " (GlobalAveragePooling2D)                                        \n",
      "                                                                 \n",
      " dropout_2 (Dropout)         (None, 576)               0         \n",
      "                                                                 \n",
      " dense_2 (Dense)             (None, 1)                 577       \n",
      "                                                                 \n",
      "=================================================================\n",
      "Total params: 939,697\n",
      "Trainable params: 577\n",
      "Non-trainable params: 939,120\n",
      "_________________________________________________________________\n",
      "Epoch 1/20\n"
     ]
    },
    {
     "name": "stderr",
     "output_type": "stream",
     "text": [
      "2022-05-06 15:37:03.778756: I tensorflow/core/grappler/optimizers/custom_graph_optimizer_registry.cc:113] Plugin optimizer for device_type GPU is enabled.\n"
     ]
    },
    {
     "name": "stdout",
     "output_type": "stream",
     "text": [
      "1/1 [==============================] - 4s 4s/step - loss: 0.2033 - binary_accuracy: 0.0000e+00\n",
      "Epoch 2/20\n",
      "1/1 [==============================] - 0s 30ms/step - loss: 0.1737 - binary_accuracy: 0.0000e+00\n",
      "Epoch 3/20\n",
      "1/1 [==============================] - 0s 23ms/step - loss: 0.1563 - binary_accuracy: 0.0000e+00\n",
      "Epoch 4/20\n",
      "1/1 [==============================] - 0s 25ms/step - loss: 0.1415 - binary_accuracy: 0.0000e+00\n",
      "Epoch 5/20\n",
      "1/1 [==============================] - 0s 25ms/step - loss: 0.1293 - binary_accuracy: 0.0667\n",
      "Epoch 6/20\n",
      "1/1 [==============================] - 0s 22ms/step - loss: 0.1166 - binary_accuracy: 0.0667\n",
      "Epoch 7/20\n",
      "1/1 [==============================] - 0s 24ms/step - loss: 0.1041 - binary_accuracy: 0.0667\n",
      "Epoch 8/20\n",
      "1/1 [==============================] - 0s 22ms/step - loss: 0.0943 - binary_accuracy: 0.2667\n",
      "Epoch 9/20\n",
      "1/1 [==============================] - 0s 21ms/step - loss: 0.0857 - binary_accuracy: 0.3333\n",
      "Epoch 10/20\n",
      "1/1 [==============================] - 0s 21ms/step - loss: 0.0773 - binary_accuracy: 0.3333\n",
      "Epoch 11/20\n",
      "1/1 [==============================] - 0s 21ms/step - loss: 0.0691 - binary_accuracy: 0.4000\n",
      "Epoch 12/20\n",
      "1/1 [==============================] - 0s 21ms/step - loss: 0.0626 - binary_accuracy: 0.6000\n",
      "Epoch 13/20\n",
      "1/1 [==============================] - 0s 21ms/step - loss: 0.0565 - binary_accuracy: 0.7333\n",
      "Epoch 14/20\n",
      "1/1 [==============================] - 0s 21ms/step - loss: 0.0514 - binary_accuracy: 0.8667\n",
      "Epoch 15/20\n",
      "1/1 [==============================] - 0s 21ms/step - loss: 0.0459 - binary_accuracy: 0.9333\n",
      "Epoch 16/20\n",
      "1/1 [==============================] - 0s 22ms/step - loss: 0.0420 - binary_accuracy: 1.0000\n",
      "Epoch 17/20\n",
      "1/1 [==============================] - 0s 20ms/step - loss: 0.0381 - binary_accuracy: 1.0000\n",
      "Epoch 18/20\n",
      "1/1 [==============================] - 0s 23ms/step - loss: 0.0342 - binary_accuracy: 1.0000\n",
      "Epoch 19/20\n",
      "1/1 [==============================] - 0s 21ms/step - loss: 0.0316 - binary_accuracy: 1.0000\n",
      "Epoch 20/20\n",
      "1/1 [==============================] - 0s 21ms/step - loss: 0.0289 - binary_accuracy: 1.0000\n"
     ]
    },
    {
     "data": {
      "text/plain": [
       "<keras.callbacks.History at 0x2bc8d5700>"
      ]
     },
     "execution_count": 24,
     "metadata": {},
     "output_type": "execute_result"
    }
   ],
   "source": [
    "input = keras.Input(shape=(IMAGE_SIZE, IMAGE_SIZE, 3))\n",
    "#x = data_augmentation(input)\n",
    "\n",
    "x = keras.layers.Rescaling(scale=1/127.5, offset=-1)(input)\n",
    "\n",
    "x = base_model(x, training=False)\n",
    "x = keras.layers.GlobalAveragePooling2D()(x)\n",
    "x = keras.layers.Dropout(0.2)(x)\n",
    "output = keras.layers.Dense(1)(x)\n",
    "model = keras.Model(input, output)\n",
    "\n",
    "model.summary()\n",
    "\n",
    "model.compile(\n",
    "    optimizer=keras.optimizers.Nadam(),\n",
    "    loss=keras.losses.BinaryFocalCrossentropy(from_logits=True),\n",
    "    metrics=[keras.metrics.BinaryAccuracy()]\n",
    ")\n",
    "\n",
    "model.fit(images, label, epochs=20)"
   ]
  }
 ],
 "metadata": {
  "interpreter": {
   "hash": "5a430e7eabb0d5c742d1b1545f5b8250e2a223eb8f38b8859ba25f6af7116669"
  },
  "kernelspec": {
   "display_name": "Python 3.9.7",
   "language": "python",
   "name": "python3"
  },
  "language_info": {
   "codemirror_mode": {
    "name": "ipython",
    "version": 3
   },
   "file_extension": ".py",
   "mimetype": "text/x-python",
   "name": "python",
   "nbconvert_exporter": "python",
   "pygments_lexer": "ipython3",
   "version": "3.9.7"
  },
  "orig_nbformat": 4
 },
 "nbformat": 4,
 "nbformat_minor": 2
}
