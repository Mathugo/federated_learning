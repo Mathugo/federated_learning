{
 "cells": [
  {
   "cell_type": "code",
   "execution_count": 10,
   "metadata": {},
   "outputs": [],
   "source": [
    "from openfl.interface.interactive_api.federation import Federation\n",
    "from openfl.interface.interactive_api.experiment import ModelInterface, FLExperiment\n",
    "from openfl.utilities.optimizers.torch import FedProxOptimizer, FedProxAdam\n",
    "import torch\n",
    "import torch.nn as nn\n",
    "import torch.optim as optim\n",
    "from copy import deepcopy\n",
    "\n",
    "from gear_shard_dataset import GearSD\n",
    "from kvasir_shard_dataset import KvasirSD\n",
    "\n",
    "from loss import *\n",
    "from models import *\n",
    "from tasks import Task\n",
    "\n",
    "import matplotlib.pyplot as plt\n",
    "import time\n",
    "import os\n",
    "import copy\n",
    "\n",
    "NUM_CLASSES=1\n",
    "ROUND_TO_TRAIN=4\n",
    "\n",
    "client_id = 'frontend'\n",
    "director_node_fqdn = 'localhost'\n",
    "director_port = 50053\n",
    "experiment_name = 'gear_test_experiment'\n",
    "LEARNING_RATE=5e-4\n",
    "TRAIN_BS=4\n",
    "VALID_BS=8\n",
    "\n",
    "CRITERION=soft_dice_loss\n",
    "CRITERION_VAL=soft_dice_coef\n"
   ]
  },
  {
   "cell_type": "markdown",
   "metadata": {},
   "source": [
    "## don't forget to launch envoy service\n",
    "### bash start_envoy.sh env_on localhost"
   ]
  },
  {
   "cell_type": "code",
   "execution_count": 11,
   "metadata": {},
   "outputs": [
    {
     "name": "stdout",
     "output_type": "stream",
     "text": [
      "Sample shape : torch.Size([4, 3, 332, 332])\n",
      "Target shape : torch.Size([4, 1, 332, 332])\n",
      "Sample shape : torch.Size([4, 3, 332, 332])\n",
      "Target shape : torch.Size([4, 1, 332, 332])\n",
      "Sample shape : torch.Size([1, 3, 332, 332])\n",
      "Target shape : torch.Size([1, 1, 332, 332])\n"
     ]
    }
   ],
   "source": [
    "# please use the same identificator that was used in signed certificate\n",
    "federation = Federation(\n",
    "    client_id=client_id,\n",
    "    director_node_fqdn=director_node_fqdn,\n",
    "    director_port=director_port,\n",
    "    tls=False\n",
    ")\n",
    "shard_registry = federation.get_shard_registry()\n",
    "shard_registry\n",
    "federation.target_shape\n",
    "dummy_shard_desc = federation.get_dummy_shard_descriptor(size=10)\n",
    "dummy_shard_dataset = dummy_shard_desc.get_dataset('train')\n",
    "sample, target = dummy_shard_dataset[0]\n",
    "f\"Sample shape: {sample.shape}, target shape: {target.shape}\"\n",
    "\n",
    "fed_dataset = KvasirSD(train_bs=TRAIN_BS, valid_bs=VALID_BS)\n",
    "fed_dataset.shard_descriptor = dummy_shard_desc\n",
    "for i, (sample, target) in enumerate(fed_dataset.get_train_loader()):\n",
    "    print(\"Sample shape : \"+str(sample.shape))\n",
    "    print(\"Target shape : \"+str(target.shape))"
   ]
  },
  {
   "cell_type": "code",
   "execution_count": 12,
   "metadata": {},
   "outputs": [
    {
     "name": "stdout",
     "output_type": "stream",
     "text": [
      "[*] Changing head for 1 classes and removing aux classifier\n",
      "[!] This model will be trained using alpha freezing coef = 0.7 meaning 135/193 layers will be freeze\n"
     ]
    },
    {
     "data": {
      "text/html": [
       "<pre style=\"white-space:pre;overflow-x:auto;line-height:normal;font-family:Menlo,'DejaVu Sans Mono',consolas,'Courier New',monospace\"><span style=\"color: #7fbfbf\">[10:15:22] </span><span style=\"color: #000080\">INFO</span>     Building <span style=\"color: #800000\">🡆</span> Object <span style=\"color: #800000\">CloudpickleSerializer</span> from <span style=\"color: #800000\">openfl.plugins.interface_serializer.cloudpickle_serializer</span> Module.                  <a href=\"file:///home/cloud/anaconda3/lib/python3.8/site-packages/openfl/federated/plan/plan.py\"><span style=\"color: #7f7f7f\">plan.py</span></a><span style=\"color: #7f7f7f\">:171</span>\n",
       "</pre>\n"
      ],
      "text/plain": [
       "<rich.jupyter.JupyterRenderable at 0x7f61c64ef6d0>"
      ]
     },
     "metadata": {},
     "output_type": "display_data"
    },
    {
     "data": {
      "text/html": [
       "<pre style=\"white-space:pre;overflow-x:auto;line-height:normal;font-family:Menlo,'DejaVu Sans Mono',consolas,'Courier New',monospace\"><span style=\"color: #7fbfbf\">           </span><span style=\"color: #000080\">INFO</span>     Building <span style=\"color: #800000\">🡆</span> Object <span style=\"color: #800000\">FrameworkAdapterPlugin</span> from <span style=\"color: #800000\">openfl.plugins.frameworks_adapters.pytorch_adapter</span> Module.                         <a href=\"file:///home/cloud/anaconda3/lib/python3.8/site-packages/openfl/federated/plan/plan.py\"><span style=\"color: #7f7f7f\">plan.py</span></a><span style=\"color: #7f7f7f\">:171</span>\n",
       "</pre>\n"
      ],
      "text/plain": [
       "<rich.jupyter.JupyterRenderable at 0x7f61c65a1a00>"
      ]
     },
     "metadata": {},
     "output_type": "display_data"
    },
    {
     "data": {
      "text/html": [
       "<pre style=\"white-space:pre;overflow-x:auto;line-height:normal;font-family:Menlo,'DejaVu Sans Mono',consolas,'Courier New',monospace\"><span style=\"color: #7fbfbf\">[10:15:28] </span><span style=\"color: #000080\">INFO</span>     Starting experiment!                                                                                                       <a href=\"file:///home/cloud/anaconda3/lib/python3.8/site-packages/openfl/interface/interactive_api/experiment.py\"><span style=\"color: #7f7f7f\">experiment.py</span></a><span style=\"color: #7f7f7f\">:214</span>\n",
       "</pre>\n"
      ],
      "text/plain": [
       "<rich.jupyter.JupyterRenderable at 0x7f61d5c771c0>"
      ]
     },
     "metadata": {},
     "output_type": "display_data"
    },
    {
     "data": {
      "text/html": [
       "<pre style=\"white-space:pre;overflow-x:auto;line-height:normal;font-family:Menlo,'DejaVu Sans Mono',consolas,'Courier New',monospace\"><span style=\"color: #7fbfbf\">           </span><span style=\"color: #000080\">INFO</span>     FL-Plan hash is <span style=\"color: #000080\">c7d3208259f16f7605868df86d82eb4b90e200df07c34167c2f93dc954c03ff95c30f327223cbcccce62bff3e91ec83a</span>                 <a href=\"file:///home/cloud/anaconda3/lib/python3.8/site-packages/openfl/federated/plan/plan.py\"><span style=\"color: #7f7f7f\">plan.py</span></a><span style=\"color: #7f7f7f\">:233</span>\n",
       "</pre>\n"
      ],
      "text/plain": [
       "<rich.jupyter.JupyterRenderable at 0x7f61d5c96c40>"
      ]
     },
     "metadata": {},
     "output_type": "display_data"
    },
    {
     "data": {
      "text/html": [
       "<pre style=\"white-space:pre;overflow-x:auto;line-height:normal;font-family:Menlo,'DejaVu Sans Mono',consolas,'Courier New',monospace\"><span style=\"color: #7fbfbf\">           </span><span style=\"color: #000080\">INFO</span>     FL-Plan hash is <span style=\"color: #000080\">c7d3208259f16f7605868df86d82eb4b90e200df07c34167c2f93dc954c03ff95c30f327223cbcccce62bff3e91ec83a</span>                 <a href=\"file:///home/cloud/anaconda3/lib/python3.8/site-packages/openfl/federated/plan/plan.py\"><span style=\"color: #7f7f7f\">plan.py</span></a><span style=\"color: #7f7f7f\">:233</span>\n",
       "</pre>\n"
      ],
      "text/plain": [
       "<rich.jupyter.JupyterRenderable at 0x7f61d5d6fcd0>"
      ]
     },
     "metadata": {},
     "output_type": "display_data"
    },
    {
     "data": {
      "text/html": [
       "<pre style=\"white-space:pre;overflow-x:auto;line-height:normal;font-family:Menlo,'DejaVu Sans Mono',consolas,'Courier New',monospace\"><span style=\"color: #7fbfbf\">           </span><span style=\"color: #000080\">INFO</span>     Building <span style=\"color: #800000\">🡆</span> Object <span style=\"color: #800000\">CoreTaskRunner</span> from <span style=\"color: #800000\">openfl.federated.task.task_runner</span> Module.                                                  <a href=\"file:///home/cloud/anaconda3/lib/python3.8/site-packages/openfl/federated/plan/plan.py\"><span style=\"color: #7f7f7f\">plan.py</span></a><span style=\"color: #7f7f7f\">:171</span>\n",
       "</pre>\n"
      ],
      "text/plain": [
       "<rich.jupyter.JupyterRenderable at 0x7f61d5d6f5e0>"
      ]
     },
     "metadata": {},
     "output_type": "display_data"
    },
    {
     "data": {
      "text/html": [
       "<pre style=\"white-space:pre;overflow-x:auto;line-height:normal;font-family:Menlo,'DejaVu Sans Mono',consolas,'Courier New',monospace\"><span style=\"color: #7fbfbf\">           </span><span style=\"color: #000080\">INFO</span>     Building <span style=\"color: #800000\">🡆</span> Object <span style=\"color: #800000\">FrameworkAdapterPlugin</span> from <span style=\"color: #800000\">openfl.plugins.frameworks_adapters.pytorch_adapter</span> Module.                         <a href=\"file:///home/cloud/anaconda3/lib/python3.8/site-packages/openfl/federated/plan/plan.py\"><span style=\"color: #7f7f7f\">plan.py</span></a><span style=\"color: #7f7f7f\">:171</span>\n",
       "</pre>\n"
      ],
      "text/plain": [
       "<rich.jupyter.JupyterRenderable at 0x7f61d5d6f910>"
      ]
     },
     "metadata": {},
     "output_type": "display_data"
    },
    {
     "data": {
      "text/html": [
       "<pre style=\"white-space:pre;overflow-x:auto;line-height:normal;font-family:Menlo,'DejaVu Sans Mono',consolas,'Courier New',monospace\"><span style=\"color: #7fbfbf\">           </span><span style=\"color: #800000\">WARNING</span>  tried to remove tensor: __opt_state_needed not present in the tensor dict                                                       <a href=\"file:///home/cloud/anaconda3/lib/python3.8/site-packages/openfl/utilities/utils.py\"><span style=\"color: #7f7f7f\">utils.py</span></a><span style=\"color: #7f7f7f\">:170</span>\n",
       "</pre>\n"
      ],
      "text/plain": [
       "<rich.jupyter.JupyterRenderable at 0x7f61d5c968b0>"
      ]
     },
     "metadata": {},
     "output_type": "display_data"
    },
    {
     "data": {
      "text/html": [
       "<pre style=\"white-space:pre;overflow-x:auto;line-height:normal;font-family:Menlo,'DejaVu Sans Mono',consolas,'Courier New',monospace\"><span style=\"color: #7fbfbf\">           </span><span style=\"color: #800000\">WARNING</span>  tried to remove tensor: __opt_state_needed not present in the tensor dict                                                       <a href=\"file:///home/cloud/anaconda3/lib/python3.8/site-packages/openfl/utilities/utils.py\"><span style=\"color: #7f7f7f\">utils.py</span></a><span style=\"color: #7f7f7f\">:170</span>\n",
       "</pre>\n"
      ],
      "text/plain": [
       "<rich.jupyter.JupyterRenderable at 0x7f61d5d6f310>"
      ]
     },
     "metadata": {},
     "output_type": "display_data"
    },
    {
     "data": {
      "text/html": [
       "<pre style=\"white-space:pre;overflow-x:auto;line-height:normal;font-family:Menlo,'DejaVu Sans Mono',consolas,'Courier New',monospace\"><span style=\"color: #7fbfbf\">           </span><span style=\"color: #000080\">INFO</span>     SetNewExperiment                                                                                                      <a href=\"file:///home/cloud/anaconda3/lib/python3.8/site-packages/openfl/transport/grpc/director_client.py\"><span style=\"color: #7f7f7f\">director_client.py</span></a><span style=\"color: #7f7f7f\">:203</span>\n",
       "</pre>\n"
      ],
      "text/plain": [
       "<rich.jupyter.JupyterRenderable at 0x7f61d5d6f190>"
      ]
     },
     "metadata": {},
     "output_type": "display_data"
    },
    {
     "data": {
      "text/html": [
       "<pre style=\"white-space:pre;overflow-x:auto;line-height:normal;font-family:Menlo,'DejaVu Sans Mono',consolas,'Courier New',monospace\"><span style=\"color: #7fbfbf\">[10:15:32] </span><span style=\"color: #000080\">INFO</span>     Experiment was accepted and launched.                                                                                      <a href=\"file:///home/cloud/anaconda3/lib/python3.8/site-packages/openfl/interface/interactive_api/experiment.py\"><span style=\"color: #7f7f7f\">experiment.py</span></a><span style=\"color: #7f7f7f\">:228</span>\n",
       "</pre>\n"
      ],
      "text/plain": [
       "<rich.jupyter.JupyterRenderable at 0x7f61d5d6f670>"
      ]
     },
     "metadata": {},
     "output_type": "display_data"
    }
   ],
   "source": [
    "d = DeepLabv3()\n",
    "model= d.build_deeplab(NUM_CLASSES, alpha=0.7)\n",
    "# take low learning rate for Tversky loss and to not change so much the current trained weights\n",
    "optimizer_adam = optim.Adam(model.parameters(), lr=LEARNING_RATE)\n",
    "\n",
    "framework_adapter = 'openfl.plugins.frameworks_adapters.pytorch_adapter.FrameworkAdapterPlugin'\n",
    "MI = ModelInterface(model=model, optimizer=optimizer_adam, framework_plugin=framework_adapter)\n",
    "# Save the initial model state\n",
    "initial_model = deepcopy(model)\n",
    "\n",
    "TI, validate = Task.createTask(CRITERION, CRITERION_VAL, d)\n",
    "\n",
    "# create an experimnet in federation\n",
    "fl_experiment = FLExperiment(federation=federation, experiment_name=experiment_name)\n",
    "\n",
    "# The following command zips the workspace and python requirements to be transfered to collaborator nodes\n",
    "fl_experiment.start(model_provider=MI, \n",
    "                    task_keeper=TI,\n",
    "                    data_loader=fed_dataset,\n",
    "                    rounds_to_train=ROUND_TO_TRAIN,\n",
    "                    opt_treatment='CONTINUE_GLOBAL',\n",
    "                    device_assignment_policy='CUDA_PREFERRED')"
   ]
  },
  {
   "cell_type": "markdown",
   "metadata": {},
   "source": [
    "### You may use the same federation object to report another experiment or even schedule several experiments that will be executed in series."
   ]
  },
  {
   "cell_type": "markdown",
   "metadata": {},
   "source": [
    "# Stream from tensorboard\n"
   ]
  },
  {
   "cell_type": "code",
   "execution_count": 13,
   "metadata": {},
   "outputs": [
    {
     "data": {
      "text/html": [
       "<pre style=\"white-space:pre;overflow-x:auto;line-height:normal;font-family:Menlo,'DejaVu Sans Mono',consolas,'Courier New',monospace\"><span style=\"color: #7fbfbf\">[10:25:51] </span>METRIC   Round <span style=\"color: #000080; font-weight: bold\">0</span>, collaborator env_two train result train_loss <span style=\"font-weight: bold\">(</span>dice loss<span style=\"font-weight: bold\">)</span>:      <span style=\"color: #000080; font-weight: bold\">0.737680</span>                                           <a href=\"file:///home/cloud/anaconda3/lib/python3.8/site-packages/openfl/interface/interactive_api/experiment.py\"><span style=\"color: #7f7f7f\">experiment.py</span></a><span style=\"color: #7f7f7f\">:116</span>\n",
       "</pre>\n"
      ],
      "text/plain": [
       "<rich.jupyter.JupyterRenderable at 0x7f61c512ecd0>"
      ]
     },
     "metadata": {},
     "output_type": "display_data"
    },
    {
     "data": {
      "text/html": [
       "<pre style=\"white-space:pre;overflow-x:auto;line-height:normal;font-family:Menlo,'DejaVu Sans Mono',consolas,'Courier New',monospace\"><span style=\"color: #7fbfbf\">           </span><span style=\"color: #000080\">INFO</span>     Summary name env_two/train/train_loss <span style=\"font-weight: bold\">(</span>dice loss<span style=\"font-weight: bold\">)</span> is illegal; using env_two/train/train_loss__dice_loss_ instead.              <a href=\"file:///home/cloud/anaconda3/lib/python3.8/site-packages/tensorboardX/summary.py\"><span style=\"color: #7f7f7f\">summary.py</span></a><span style=\"color: #7f7f7f\">:40</span>\n",
       "</pre>\n"
      ],
      "text/plain": [
       "<rich.jupyter.JupyterRenderable at 0x7f61d5d6f2b0>"
      ]
     },
     "metadata": {},
     "output_type": "display_data"
    },
    {
     "data": {
      "text/html": [
       "<pre style=\"white-space:pre;overflow-x:auto;line-height:normal;font-family:Menlo,'DejaVu Sans Mono',consolas,'Courier New',monospace\"><span style=\"color: #7fbfbf\">           </span>METRIC   Round <span style=\"color: #000080; font-weight: bold\">0</span>, collaborator env_two locally_tuned_model_validate result Val Score <span style=\"font-weight: bold\">(</span>Dice Coeff<span style=\"font-weight: bold\">)</span>:       <span style=\"color: #000080; font-weight: bold\">-5.685223</span>                  <a href=\"file:///home/cloud/anaconda3/lib/python3.8/site-packages/openfl/interface/interactive_api/experiment.py\"><span style=\"color: #7f7f7f\">experiment.py</span></a><span style=\"color: #7f7f7f\">:116</span>\n",
       "</pre>\n"
      ],
      "text/plain": [
       "<rich.jupyter.JupyterRenderable at 0x7f61d5d6fca0>"
      ]
     },
     "metadata": {},
     "output_type": "display_data"
    },
    {
     "data": {
      "text/html": [
       "<pre style=\"white-space:pre;overflow-x:auto;line-height:normal;font-family:Menlo,'DejaVu Sans Mono',consolas,'Courier New',monospace\"><span style=\"color: #7fbfbf\">           </span><span style=\"color: #000080\">INFO</span>     Summary name env_two/locally_tuned_model_validate/Val Score <span style=\"font-weight: bold\">(</span>Dice Coeff<span style=\"font-weight: bold\">)</span> is illegal; using                                     <a href=\"file:///home/cloud/anaconda3/lib/python3.8/site-packages/tensorboardX/summary.py\"><span style=\"color: #7f7f7f\">summary.py</span></a><span style=\"color: #7f7f7f\">:40</span>\n",
       "                    env_two/locally_tuned_model_validate/Val_Score__Dice_Coeff_ instead.                                                                        \n",
       "</pre>\n"
      ],
      "text/plain": [
       "<rich.jupyter.JupyterRenderable at 0x7f61d5d6feb0>"
      ]
     },
     "metadata": {},
     "output_type": "display_data"
    },
    {
     "data": {
      "text/html": [
       "<pre style=\"white-space:pre;overflow-x:auto;line-height:normal;font-family:Menlo,'DejaVu Sans Mono',consolas,'Courier New',monospace\"><span style=\"color: #7fbfbf\">           </span>METRIC   Round <span style=\"color: #000080; font-weight: bold\">0</span>, collaborator env_two aggregated_model_validate result Val Score <span style=\"font-weight: bold\">(</span>Dice Coeff<span style=\"font-weight: bold\">)</span>:  <span style=\"color: #000080; font-weight: bold\">0.037353</span>                           <a href=\"file:///home/cloud/anaconda3/lib/python3.8/site-packages/openfl/interface/interactive_api/experiment.py\"><span style=\"color: #7f7f7f\">experiment.py</span></a><span style=\"color: #7f7f7f\">:116</span>\n",
       "</pre>\n"
      ],
      "text/plain": [
       "<rich.jupyter.JupyterRenderable at 0x7f61d5d6fca0>"
      ]
     },
     "metadata": {},
     "output_type": "display_data"
    },
    {
     "data": {
      "text/html": [
       "<pre style=\"white-space:pre;overflow-x:auto;line-height:normal;font-family:Menlo,'DejaVu Sans Mono',consolas,'Courier New',monospace\"><span style=\"color: #7fbfbf\">           </span><span style=\"color: #000080\">INFO</span>     Summary name env_two/aggregated_model_validate/Val Score <span style=\"font-weight: bold\">(</span>Dice Coeff<span style=\"font-weight: bold\">)</span> is illegal; using                                        <a href=\"file:///home/cloud/anaconda3/lib/python3.8/site-packages/tensorboardX/summary.py\"><span style=\"color: #7f7f7f\">summary.py</span></a><span style=\"color: #7f7f7f\">:40</span>\n",
       "                    env_two/aggregated_model_validate/Val_Score__Dice_Coeff_ instead.                                                                           \n",
       "</pre>\n"
      ],
      "text/plain": [
       "<rich.jupyter.JupyterRenderable at 0x7f61d5d6fb50>"
      ]
     },
     "metadata": {},
     "output_type": "display_data"
    },
    {
     "data": {
      "text/html": [
       "<pre style=\"white-space:pre;overflow-x:auto;line-height:normal;font-family:Menlo,'DejaVu Sans Mono',consolas,'Courier New',monospace\"><span style=\"color: #7fbfbf\">           </span>METRIC   Round <span style=\"color: #000080; font-weight: bold\">0</span>, collaborator Aggregator train result train_loss <span style=\"font-weight: bold\">(</span>dice loss<span style=\"font-weight: bold\">)</span>:   <span style=\"color: #000080; font-weight: bold\">0.737680</span>                                           <a href=\"file:///home/cloud/anaconda3/lib/python3.8/site-packages/openfl/interface/interactive_api/experiment.py\"><span style=\"color: #7f7f7f\">experiment.py</span></a><span style=\"color: #7f7f7f\">:116</span>\n",
       "</pre>\n"
      ],
      "text/plain": [
       "<rich.jupyter.JupyterRenderable at 0x7f61d5d6fca0>"
      ]
     },
     "metadata": {},
     "output_type": "display_data"
    },
    {
     "data": {
      "text/html": [
       "<pre style=\"white-space:pre;overflow-x:auto;line-height:normal;font-family:Menlo,'DejaVu Sans Mono',consolas,'Courier New',monospace\"><span style=\"color: #7fbfbf\">           </span><span style=\"color: #000080\">INFO</span>     Summary name Aggregator/train/train_loss <span style=\"font-weight: bold\">(</span>dice loss<span style=\"font-weight: bold\">)</span> is illegal; using Aggregator/train/train_loss__dice_loss_ instead.        <a href=\"file:///home/cloud/anaconda3/lib/python3.8/site-packages/tensorboardX/summary.py\"><span style=\"color: #7f7f7f\">summary.py</span></a><span style=\"color: #7f7f7f\">:40</span>\n",
       "</pre>\n"
      ],
      "text/plain": [
       "<rich.jupyter.JupyterRenderable at 0x7f61d5d6f6a0>"
      ]
     },
     "metadata": {},
     "output_type": "display_data"
    },
    {
     "data": {
      "text/html": [
       "<pre style=\"white-space:pre;overflow-x:auto;line-height:normal;font-family:Menlo,'DejaVu Sans Mono',consolas,'Courier New',monospace\"><span style=\"color: #7fbfbf\">           </span>METRIC   Round <span style=\"color: #000080; font-weight: bold\">0</span>, collaborator Aggregator locally_tuned_model_validate result Val Score <span style=\"font-weight: bold\">(</span>Dice Coeff<span style=\"font-weight: bold\">)</span>:    <span style=\"color: #000080; font-weight: bold\">-5.685223</span>                  <a href=\"file:///home/cloud/anaconda3/lib/python3.8/site-packages/openfl/interface/interactive_api/experiment.py\"><span style=\"color: #7f7f7f\">experiment.py</span></a><span style=\"color: #7f7f7f\">:116</span>\n",
       "</pre>\n"
      ],
      "text/plain": [
       "<rich.jupyter.JupyterRenderable at 0x7f61d5d6fca0>"
      ]
     },
     "metadata": {},
     "output_type": "display_data"
    },
    {
     "data": {
      "text/html": [
       "<pre style=\"white-space:pre;overflow-x:auto;line-height:normal;font-family:Menlo,'DejaVu Sans Mono',consolas,'Courier New',monospace\"><span style=\"color: #7fbfbf\">           </span><span style=\"color: #000080\">INFO</span>     Summary name Aggregator/locally_tuned_model_validate/Val Score <span style=\"font-weight: bold\">(</span>Dice Coeff<span style=\"font-weight: bold\">)</span> is illegal; using                                  <a href=\"file:///home/cloud/anaconda3/lib/python3.8/site-packages/tensorboardX/summary.py\"><span style=\"color: #7f7f7f\">summary.py</span></a><span style=\"color: #7f7f7f\">:40</span>\n",
       "                    Aggregator/locally_tuned_model_validate/Val_Score__Dice_Coeff_ instead.                                                                     \n",
       "</pre>\n"
      ],
      "text/plain": [
       "<rich.jupyter.JupyterRenderable at 0x7f61d5d6fbb0>"
      ]
     },
     "metadata": {},
     "output_type": "display_data"
    },
    {
     "data": {
      "text/html": [
       "<pre style=\"white-space:pre;overflow-x:auto;line-height:normal;font-family:Menlo,'DejaVu Sans Mono',consolas,'Courier New',monospace\"><span style=\"color: #7fbfbf\">           </span>METRIC   Round <span style=\"color: #000080; font-weight: bold\">0</span>, collaborator Aggregator aggregated_model_validate result Val Score <span style=\"font-weight: bold\">(</span>Dice Coeff<span style=\"font-weight: bold\">)</span>:       <span style=\"color: #000080; font-weight: bold\">0.037353</span>                   <a href=\"file:///home/cloud/anaconda3/lib/python3.8/site-packages/openfl/interface/interactive_api/experiment.py\"><span style=\"color: #7f7f7f\">experiment.py</span></a><span style=\"color: #7f7f7f\">:116</span>\n",
       "</pre>\n"
      ],
      "text/plain": [
       "<rich.jupyter.JupyterRenderable at 0x7f61d5d6fca0>"
      ]
     },
     "metadata": {},
     "output_type": "display_data"
    },
    {
     "data": {
      "text/html": [
       "<pre style=\"white-space:pre;overflow-x:auto;line-height:normal;font-family:Menlo,'DejaVu Sans Mono',consolas,'Courier New',monospace\"><span style=\"color: #7fbfbf\">           </span><span style=\"color: #000080\">INFO</span>     Summary name Aggregator/aggregated_model_validate/Val Score <span style=\"font-weight: bold\">(</span>Dice Coeff<span style=\"font-weight: bold\">)</span> is illegal; using                                     <a href=\"file:///home/cloud/anaconda3/lib/python3.8/site-packages/tensorboardX/summary.py\"><span style=\"color: #7f7f7f\">summary.py</span></a><span style=\"color: #7f7f7f\">:40</span>\n",
       "                    Aggregator/aggregated_model_validate/Val_Score__Dice_Coeff_ instead.                                                                        \n",
       "</pre>\n"
      ],
      "text/plain": [
       "<rich.jupyter.JupyterRenderable at 0x7f61d5d6f670>"
      ]
     },
     "metadata": {},
     "output_type": "display_data"
    },
    {
     "data": {
      "text/html": [
       "<pre style=\"white-space:pre;overflow-x:auto;line-height:normal;font-family:Menlo,'DejaVu Sans Mono',consolas,'Courier New',monospace\"><span style=\"color: #7fbfbf\">           </span>METRIC   Round <span style=\"color: #000080; font-weight: bold\">1</span>, collaborator env_two train result train_loss <span style=\"font-weight: bold\">(</span>dice loss<span style=\"font-weight: bold\">)</span>:      <span style=\"color: #000080; font-weight: bold\">0.774448</span>                                           <a href=\"file:///home/cloud/anaconda3/lib/python3.8/site-packages/openfl/interface/interactive_api/experiment.py\"><span style=\"color: #7f7f7f\">experiment.py</span></a><span style=\"color: #7f7f7f\">:116</span>\n",
       "</pre>\n"
      ],
      "text/plain": [
       "<rich.jupyter.JupyterRenderable at 0x7f61d5d6fca0>"
      ]
     },
     "metadata": {},
     "output_type": "display_data"
    },
    {
     "data": {
      "text/html": [
       "<pre style=\"white-space:pre;overflow-x:auto;line-height:normal;font-family:Menlo,'DejaVu Sans Mono',consolas,'Courier New',monospace\"><span style=\"color: #7fbfbf\">           </span><span style=\"color: #000080\">INFO</span>     Summary name env_two/train/train_loss <span style=\"font-weight: bold\">(</span>dice loss<span style=\"font-weight: bold\">)</span> is illegal; using env_two/train/train_loss__dice_loss_ instead.              <a href=\"file:///home/cloud/anaconda3/lib/python3.8/site-packages/tensorboardX/summary.py\"><span style=\"color: #7f7f7f\">summary.py</span></a><span style=\"color: #7f7f7f\">:40</span>\n",
       "</pre>\n"
      ],
      "text/plain": [
       "<rich.jupyter.JupyterRenderable at 0x7f61d5d6f190>"
      ]
     },
     "metadata": {},
     "output_type": "display_data"
    },
    {
     "data": {
      "text/html": [
       "<pre style=\"white-space:pre;overflow-x:auto;line-height:normal;font-family:Menlo,'DejaVu Sans Mono',consolas,'Courier New',monospace\"><span style=\"color: #7fbfbf\">           </span>METRIC   Round <span style=\"color: #000080; font-weight: bold\">1</span>, collaborator env_two locally_tuned_model_validate result Val Score <span style=\"font-weight: bold\">(</span>Dice Coeff<span style=\"font-weight: bold\">)</span>:       <span style=\"color: #000080; font-weight: bold\">-0.246266</span>                  <a href=\"file:///home/cloud/anaconda3/lib/python3.8/site-packages/openfl/interface/interactive_api/experiment.py\"><span style=\"color: #7f7f7f\">experiment.py</span></a><span style=\"color: #7f7f7f\">:116</span>\n",
       "</pre>\n"
      ],
      "text/plain": [
       "<rich.jupyter.JupyterRenderable at 0x7f61d5d6fee0>"
      ]
     },
     "metadata": {},
     "output_type": "display_data"
    },
    {
     "data": {
      "text/html": [
       "<pre style=\"white-space:pre;overflow-x:auto;line-height:normal;font-family:Menlo,'DejaVu Sans Mono',consolas,'Courier New',monospace\"><span style=\"color: #7fbfbf\">           </span><span style=\"color: #000080\">INFO</span>     Summary name env_two/locally_tuned_model_validate/Val Score <span style=\"font-weight: bold\">(</span>Dice Coeff<span style=\"font-weight: bold\">)</span> is illegal; using                                     <a href=\"file:///home/cloud/anaconda3/lib/python3.8/site-packages/tensorboardX/summary.py\"><span style=\"color: #7f7f7f\">summary.py</span></a><span style=\"color: #7f7f7f\">:40</span>\n",
       "                    env_two/locally_tuned_model_validate/Val_Score__Dice_Coeff_ instead.                                                                        \n",
       "</pre>\n"
      ],
      "text/plain": [
       "<rich.jupyter.JupyterRenderable at 0x7f61d5d6f0d0>"
      ]
     },
     "metadata": {},
     "output_type": "display_data"
    },
    {
     "data": {
      "text/html": [
       "<pre style=\"white-space:pre;overflow-x:auto;line-height:normal;font-family:Menlo,'DejaVu Sans Mono',consolas,'Courier New',monospace\"><span style=\"color: #7fbfbf\">           </span>METRIC   Round <span style=\"color: #000080; font-weight: bold\">1</span>, collaborator env_two aggregated_model_validate result Val Score <span style=\"font-weight: bold\">(</span>Dice Coeff<span style=\"font-weight: bold\">)</span>:  <span style=\"color: #000080; font-weight: bold\">-5.684780</span>                          <a href=\"file:///home/cloud/anaconda3/lib/python3.8/site-packages/openfl/interface/interactive_api/experiment.py\"><span style=\"color: #7f7f7f\">experiment.py</span></a><span style=\"color: #7f7f7f\">:116</span>\n",
       "</pre>\n"
      ],
      "text/plain": [
       "<rich.jupyter.JupyterRenderable at 0x7f61d5d6fee0>"
      ]
     },
     "metadata": {},
     "output_type": "display_data"
    },
    {
     "data": {
      "text/html": [
       "<pre style=\"white-space:pre;overflow-x:auto;line-height:normal;font-family:Menlo,'DejaVu Sans Mono',consolas,'Courier New',monospace\"><span style=\"color: #7fbfbf\">           </span><span style=\"color: #000080\">INFO</span>     Summary name env_two/aggregated_model_validate/Val Score <span style=\"font-weight: bold\">(</span>Dice Coeff<span style=\"font-weight: bold\">)</span> is illegal; using                                        <a href=\"file:///home/cloud/anaconda3/lib/python3.8/site-packages/tensorboardX/summary.py\"><span style=\"color: #7f7f7f\">summary.py</span></a><span style=\"color: #7f7f7f\">:40</span>\n",
       "                    env_two/aggregated_model_validate/Val_Score__Dice_Coeff_ instead.                                                                           \n",
       "</pre>\n"
      ],
      "text/plain": [
       "<rich.jupyter.JupyterRenderable at 0x7f61d5d6fd30>"
      ]
     },
     "metadata": {},
     "output_type": "display_data"
    },
    {
     "data": {
      "text/html": [
       "<pre style=\"white-space:pre;overflow-x:auto;line-height:normal;font-family:Menlo,'DejaVu Sans Mono',consolas,'Courier New',monospace\"><span style=\"color: #7fbfbf\">           </span>METRIC   Round <span style=\"color: #000080; font-weight: bold\">1</span>, collaborator Aggregator train result train_loss <span style=\"font-weight: bold\">(</span>dice loss<span style=\"font-weight: bold\">)</span>:   <span style=\"color: #000080; font-weight: bold\">0.774448</span>                                           <a href=\"file:///home/cloud/anaconda3/lib/python3.8/site-packages/openfl/interface/interactive_api/experiment.py\"><span style=\"color: #7f7f7f\">experiment.py</span></a><span style=\"color: #7f7f7f\">:116</span>\n",
       "</pre>\n"
      ],
      "text/plain": [
       "<rich.jupyter.JupyterRenderable at 0x7f61d5d6fee0>"
      ]
     },
     "metadata": {},
     "output_type": "display_data"
    },
    {
     "data": {
      "text/html": [
       "<pre style=\"white-space:pre;overflow-x:auto;line-height:normal;font-family:Menlo,'DejaVu Sans Mono',consolas,'Courier New',monospace\"><span style=\"color: #7fbfbf\">           </span><span style=\"color: #000080\">INFO</span>     Summary name Aggregator/train/train_loss <span style=\"font-weight: bold\">(</span>dice loss<span style=\"font-weight: bold\">)</span> is illegal; using Aggregator/train/train_loss__dice_loss_ instead.        <a href=\"file:///home/cloud/anaconda3/lib/python3.8/site-packages/tensorboardX/summary.py\"><span style=\"color: #7f7f7f\">summary.py</span></a><span style=\"color: #7f7f7f\">:40</span>\n",
       "</pre>\n"
      ],
      "text/plain": [
       "<rich.jupyter.JupyterRenderable at 0x7f61d5d6f880>"
      ]
     },
     "metadata": {},
     "output_type": "display_data"
    },
    {
     "data": {
      "text/html": [
       "<pre style=\"white-space:pre;overflow-x:auto;line-height:normal;font-family:Menlo,'DejaVu Sans Mono',consolas,'Courier New',monospace\"><span style=\"color: #7fbfbf\">           </span>METRIC   Round <span style=\"color: #000080; font-weight: bold\">1</span>, collaborator Aggregator locally_tuned_model_validate result Val Score <span style=\"font-weight: bold\">(</span>Dice Coeff<span style=\"font-weight: bold\">)</span>:    <span style=\"color: #000080; font-weight: bold\">-0.246266</span>                  <a href=\"file:///home/cloud/anaconda3/lib/python3.8/site-packages/openfl/interface/interactive_api/experiment.py\"><span style=\"color: #7f7f7f\">experiment.py</span></a><span style=\"color: #7f7f7f\">:116</span>\n",
       "</pre>\n"
      ],
      "text/plain": [
       "<rich.jupyter.JupyterRenderable at 0x7f61d5d6f520>"
      ]
     },
     "metadata": {},
     "output_type": "display_data"
    },
    {
     "data": {
      "text/html": [
       "<pre style=\"white-space:pre;overflow-x:auto;line-height:normal;font-family:Menlo,'DejaVu Sans Mono',consolas,'Courier New',monospace\"><span style=\"color: #7fbfbf\">           </span><span style=\"color: #000080\">INFO</span>     Summary name Aggregator/locally_tuned_model_validate/Val Score <span style=\"font-weight: bold\">(</span>Dice Coeff<span style=\"font-weight: bold\">)</span> is illegal; using                                  <a href=\"file:///home/cloud/anaconda3/lib/python3.8/site-packages/tensorboardX/summary.py\"><span style=\"color: #7f7f7f\">summary.py</span></a><span style=\"color: #7f7f7f\">:40</span>\n",
       "                    Aggregator/locally_tuned_model_validate/Val_Score__Dice_Coeff_ instead.                                                                     \n",
       "</pre>\n"
      ],
      "text/plain": [
       "<rich.jupyter.JupyterRenderable at 0x7f61d5d6f550>"
      ]
     },
     "metadata": {},
     "output_type": "display_data"
    },
    {
     "data": {
      "text/html": [
       "<pre style=\"white-space:pre;overflow-x:auto;line-height:normal;font-family:Menlo,'DejaVu Sans Mono',consolas,'Courier New',monospace\"><span style=\"color: #7fbfbf\">           </span>METRIC   Round <span style=\"color: #000080; font-weight: bold\">1</span>, collaborator Aggregator aggregated_model_validate result Val Score <span style=\"font-weight: bold\">(</span>Dice Coeff<span style=\"font-weight: bold\">)</span>:       <span style=\"color: #000080; font-weight: bold\">-5.684780</span>                  <a href=\"file:///home/cloud/anaconda3/lib/python3.8/site-packages/openfl/interface/interactive_api/experiment.py\"><span style=\"color: #7f7f7f\">experiment.py</span></a><span style=\"color: #7f7f7f\">:116</span>\n",
       "</pre>\n"
      ],
      "text/plain": [
       "<rich.jupyter.JupyterRenderable at 0x7f61d5d6f520>"
      ]
     },
     "metadata": {},
     "output_type": "display_data"
    },
    {
     "data": {
      "text/html": [
       "<pre style=\"white-space:pre;overflow-x:auto;line-height:normal;font-family:Menlo,'DejaVu Sans Mono',consolas,'Courier New',monospace\"><span style=\"color: #7fbfbf\">           </span><span style=\"color: #000080\">INFO</span>     Summary name Aggregator/aggregated_model_validate/Val Score <span style=\"font-weight: bold\">(</span>Dice Coeff<span style=\"font-weight: bold\">)</span> is illegal; using                                     <a href=\"file:///home/cloud/anaconda3/lib/python3.8/site-packages/tensorboardX/summary.py\"><span style=\"color: #7f7f7f\">summary.py</span></a><span style=\"color: #7f7f7f\">:40</span>\n",
       "                    Aggregator/aggregated_model_validate/Val_Score__Dice_Coeff_ instead.                                                                        \n",
       "</pre>\n"
      ],
      "text/plain": [
       "<rich.jupyter.JupyterRenderable at 0x7f61d5d6fe50>"
      ]
     },
     "metadata": {},
     "output_type": "display_data"
    },
    {
     "data": {
      "text/html": [
       "<pre style=\"white-space:pre;overflow-x:auto;line-height:normal;font-family:Menlo,'DejaVu Sans Mono',consolas,'Courier New',monospace\"><span style=\"color: #7fbfbf\">           </span>METRIC   Round <span style=\"color: #000080; font-weight: bold\">2</span>, collaborator env_two train result train_loss <span style=\"font-weight: bold\">(</span>dice loss<span style=\"font-weight: bold\">)</span>:      <span style=\"color: #000080; font-weight: bold\">0.664007</span>                                           <a href=\"file:///home/cloud/anaconda3/lib/python3.8/site-packages/openfl/interface/interactive_api/experiment.py\"><span style=\"color: #7f7f7f\">experiment.py</span></a><span style=\"color: #7f7f7f\">:116</span>\n",
       "</pre>\n"
      ],
      "text/plain": [
       "<rich.jupyter.JupyterRenderable at 0x7f61d5d6f8b0>"
      ]
     },
     "metadata": {},
     "output_type": "display_data"
    },
    {
     "data": {
      "text/html": [
       "<pre style=\"white-space:pre;overflow-x:auto;line-height:normal;font-family:Menlo,'DejaVu Sans Mono',consolas,'Courier New',monospace\"><span style=\"color: #7fbfbf\">           </span><span style=\"color: #000080\">INFO</span>     Summary name env_two/train/train_loss <span style=\"font-weight: bold\">(</span>dice loss<span style=\"font-weight: bold\">)</span> is illegal; using env_two/train/train_loss__dice_loss_ instead.              <a href=\"file:///home/cloud/anaconda3/lib/python3.8/site-packages/tensorboardX/summary.py\"><span style=\"color: #7f7f7f\">summary.py</span></a><span style=\"color: #7f7f7f\">:40</span>\n",
       "</pre>\n"
      ],
      "text/plain": [
       "<rich.jupyter.JupyterRenderable at 0x7f61d5d6f910>"
      ]
     },
     "metadata": {},
     "output_type": "display_data"
    },
    {
     "data": {
      "text/html": [
       "<pre style=\"white-space:pre;overflow-x:auto;line-height:normal;font-family:Menlo,'DejaVu Sans Mono',consolas,'Courier New',monospace\"><span style=\"color: #7fbfbf\">           </span>METRIC   Round <span style=\"color: #000080; font-weight: bold\">2</span>, collaborator env_two locally_tuned_model_validate result Val Score <span style=\"font-weight: bold\">(</span>Dice Coeff<span style=\"font-weight: bold\">)</span>:       <span style=\"color: #000080; font-weight: bold\">0.343512</span>                   <a href=\"file:///home/cloud/anaconda3/lib/python3.8/site-packages/openfl/interface/interactive_api/experiment.py\"><span style=\"color: #7f7f7f\">experiment.py</span></a><span style=\"color: #7f7f7f\">:116</span>\n",
       "</pre>\n"
      ],
      "text/plain": [
       "<rich.jupyter.JupyterRenderable at 0x7f61d5d6f8b0>"
      ]
     },
     "metadata": {},
     "output_type": "display_data"
    },
    {
     "data": {
      "text/html": [
       "<pre style=\"white-space:pre;overflow-x:auto;line-height:normal;font-family:Menlo,'DejaVu Sans Mono',consolas,'Courier New',monospace\"><span style=\"color: #7fbfbf\">           </span><span style=\"color: #000080\">INFO</span>     Summary name env_two/locally_tuned_model_validate/Val Score <span style=\"font-weight: bold\">(</span>Dice Coeff<span style=\"font-weight: bold\">)</span> is illegal; using                                     <a href=\"file:///home/cloud/anaconda3/lib/python3.8/site-packages/tensorboardX/summary.py\"><span style=\"color: #7f7f7f\">summary.py</span></a><span style=\"color: #7f7f7f\">:40</span>\n",
       "                    env_two/locally_tuned_model_validate/Val_Score__Dice_Coeff_ instead.                                                                        \n",
       "</pre>\n"
      ],
      "text/plain": [
       "<rich.jupyter.JupyterRenderable at 0x7f61d5d6fb50>"
      ]
     },
     "metadata": {},
     "output_type": "display_data"
    },
    {
     "data": {
      "text/html": [
       "<pre style=\"white-space:pre;overflow-x:auto;line-height:normal;font-family:Menlo,'DejaVu Sans Mono',consolas,'Courier New',monospace\"><span style=\"color: #7fbfbf\">           </span>METRIC   Round <span style=\"color: #000080; font-weight: bold\">2</span>, collaborator env_two aggregated_model_validate result Val Score <span style=\"font-weight: bold\">(</span>Dice Coeff<span style=\"font-weight: bold\">)</span>:  <span style=\"color: #000080; font-weight: bold\">-0.246281</span>                          <a href=\"file:///home/cloud/anaconda3/lib/python3.8/site-packages/openfl/interface/interactive_api/experiment.py\"><span style=\"color: #7f7f7f\">experiment.py</span></a><span style=\"color: #7f7f7f\">:116</span>\n",
       "</pre>\n"
      ],
      "text/plain": [
       "<rich.jupyter.JupyterRenderable at 0x7f61d5d6f310>"
      ]
     },
     "metadata": {},
     "output_type": "display_data"
    },
    {
     "data": {
      "text/html": [
       "<pre style=\"white-space:pre;overflow-x:auto;line-height:normal;font-family:Menlo,'DejaVu Sans Mono',consolas,'Courier New',monospace\"><span style=\"color: #7fbfbf\">           </span><span style=\"color: #000080\">INFO</span>     Summary name env_two/aggregated_model_validate/Val Score <span style=\"font-weight: bold\">(</span>Dice Coeff<span style=\"font-weight: bold\">)</span> is illegal; using                                        <a href=\"file:///home/cloud/anaconda3/lib/python3.8/site-packages/tensorboardX/summary.py\"><span style=\"color: #7f7f7f\">summary.py</span></a><span style=\"color: #7f7f7f\">:40</span>\n",
       "                    env_two/aggregated_model_validate/Val_Score__Dice_Coeff_ instead.                                                                           \n",
       "</pre>\n"
      ],
      "text/plain": [
       "<rich.jupyter.JupyterRenderable at 0x7f61d5d6fdc0>"
      ]
     },
     "metadata": {},
     "output_type": "display_data"
    },
    {
     "data": {
      "text/html": [
       "<pre style=\"white-space:pre;overflow-x:auto;line-height:normal;font-family:Menlo,'DejaVu Sans Mono',consolas,'Courier New',monospace\"><span style=\"color: #7fbfbf\">           </span>METRIC   Round <span style=\"color: #000080; font-weight: bold\">2</span>, collaborator Aggregator train result train_loss <span style=\"font-weight: bold\">(</span>dice loss<span style=\"font-weight: bold\">)</span>:   <span style=\"color: #000080; font-weight: bold\">0.664007</span>                                           <a href=\"file:///home/cloud/anaconda3/lib/python3.8/site-packages/openfl/interface/interactive_api/experiment.py\"><span style=\"color: #7f7f7f\">experiment.py</span></a><span style=\"color: #7f7f7f\">:116</span>\n",
       "</pre>\n"
      ],
      "text/plain": [
       "<rich.jupyter.JupyterRenderable at 0x7f61d5d6f310>"
      ]
     },
     "metadata": {},
     "output_type": "display_data"
    },
    {
     "data": {
      "text/html": [
       "<pre style=\"white-space:pre;overflow-x:auto;line-height:normal;font-family:Menlo,'DejaVu Sans Mono',consolas,'Courier New',monospace\"><span style=\"color: #7fbfbf\">           </span><span style=\"color: #000080\">INFO</span>     Summary name Aggregator/train/train_loss <span style=\"font-weight: bold\">(</span>dice loss<span style=\"font-weight: bold\">)</span> is illegal; using Aggregator/train/train_loss__dice_loss_ instead.        <a href=\"file:///home/cloud/anaconda3/lib/python3.8/site-packages/tensorboardX/summary.py\"><span style=\"color: #7f7f7f\">summary.py</span></a><span style=\"color: #7f7f7f\">:40</span>\n",
       "</pre>\n"
      ],
      "text/plain": [
       "<rich.jupyter.JupyterRenderable at 0x7f61d5d6faf0>"
      ]
     },
     "metadata": {},
     "output_type": "display_data"
    },
    {
     "data": {
      "text/html": [
       "<pre style=\"white-space:pre;overflow-x:auto;line-height:normal;font-family:Menlo,'DejaVu Sans Mono',consolas,'Courier New',monospace\"><span style=\"color: #7fbfbf\">           </span>METRIC   Round <span style=\"color: #000080; font-weight: bold\">2</span>, collaborator Aggregator locally_tuned_model_validate result Val Score <span style=\"font-weight: bold\">(</span>Dice Coeff<span style=\"font-weight: bold\">)</span>:    <span style=\"color: #000080; font-weight: bold\">0.343512</span>                   <a href=\"file:///home/cloud/anaconda3/lib/python3.8/site-packages/openfl/interface/interactive_api/experiment.py\"><span style=\"color: #7f7f7f\">experiment.py</span></a><span style=\"color: #7f7f7f\">:116</span>\n",
       "</pre>\n"
      ],
      "text/plain": [
       "<rich.jupyter.JupyterRenderable at 0x7f61d5d6f130>"
      ]
     },
     "metadata": {},
     "output_type": "display_data"
    },
    {
     "data": {
      "text/html": [
       "<pre style=\"white-space:pre;overflow-x:auto;line-height:normal;font-family:Menlo,'DejaVu Sans Mono',consolas,'Courier New',monospace\"><span style=\"color: #7fbfbf\">           </span><span style=\"color: #000080\">INFO</span>     Summary name Aggregator/locally_tuned_model_validate/Val Score <span style=\"font-weight: bold\">(</span>Dice Coeff<span style=\"font-weight: bold\">)</span> is illegal; using                                  <a href=\"file:///home/cloud/anaconda3/lib/python3.8/site-packages/tensorboardX/summary.py\"><span style=\"color: #7f7f7f\">summary.py</span></a><span style=\"color: #7f7f7f\">:40</span>\n",
       "                    Aggregator/locally_tuned_model_validate/Val_Score__Dice_Coeff_ instead.                                                                     \n",
       "</pre>\n"
      ],
      "text/plain": [
       "<rich.jupyter.JupyterRenderable at 0x7f61d5d6f5e0>"
      ]
     },
     "metadata": {},
     "output_type": "display_data"
    },
    {
     "data": {
      "text/html": [
       "<pre style=\"white-space:pre;overflow-x:auto;line-height:normal;font-family:Menlo,'DejaVu Sans Mono',consolas,'Courier New',monospace\"><span style=\"color: #7fbfbf\">           </span>METRIC   Round <span style=\"color: #000080; font-weight: bold\">2</span>, collaborator Aggregator aggregated_model_validate result Val Score <span style=\"font-weight: bold\">(</span>Dice Coeff<span style=\"font-weight: bold\">)</span>:       <span style=\"color: #000080; font-weight: bold\">-0.246281</span>                  <a href=\"file:///home/cloud/anaconda3/lib/python3.8/site-packages/openfl/interface/interactive_api/experiment.py\"><span style=\"color: #7f7f7f\">experiment.py</span></a><span style=\"color: #7f7f7f\">:116</span>\n",
       "</pre>\n"
      ],
      "text/plain": [
       "<rich.jupyter.JupyterRenderable at 0x7f61d5d6f130>"
      ]
     },
     "metadata": {},
     "output_type": "display_data"
    },
    {
     "data": {
      "text/html": [
       "<pre style=\"white-space:pre;overflow-x:auto;line-height:normal;font-family:Menlo,'DejaVu Sans Mono',consolas,'Courier New',monospace\"><span style=\"color: #7fbfbf\">           </span><span style=\"color: #000080\">INFO</span>     Summary name Aggregator/aggregated_model_validate/Val Score <span style=\"font-weight: bold\">(</span>Dice Coeff<span style=\"font-weight: bold\">)</span> is illegal; using                                     <a href=\"file:///home/cloud/anaconda3/lib/python3.8/site-packages/tensorboardX/summary.py\"><span style=\"color: #7f7f7f\">summary.py</span></a><span style=\"color: #7f7f7f\">:40</span>\n",
       "                    Aggregator/aggregated_model_validate/Val_Score__Dice_Coeff_ instead.                                                                        \n",
       "</pre>\n"
      ],
      "text/plain": [
       "<rich.jupyter.JupyterRenderable at 0x7f61d5d6f190>"
      ]
     },
     "metadata": {},
     "output_type": "display_data"
    },
    {
     "data": {
      "text/html": [
       "<pre style=\"white-space:pre;overflow-x:auto;line-height:normal;font-family:Menlo,'DejaVu Sans Mono',consolas,'Courier New',monospace\"><span style=\"color: #7fbfbf\">           </span>METRIC   Round <span style=\"color: #000080; font-weight: bold\">3</span>, collaborator env_two train result train_loss <span style=\"font-weight: bold\">(</span>dice loss<span style=\"font-weight: bold\">)</span>:      <span style=\"color: #000080; font-weight: bold\">0.661124</span>                                           <a href=\"file:///home/cloud/anaconda3/lib/python3.8/site-packages/openfl/interface/interactive_api/experiment.py\"><span style=\"color: #7f7f7f\">experiment.py</span></a><span style=\"color: #7f7f7f\">:116</span>\n",
       "</pre>\n"
      ],
      "text/plain": [
       "<rich.jupyter.JupyterRenderable at 0x7f61d5d6fca0>"
      ]
     },
     "metadata": {},
     "output_type": "display_data"
    },
    {
     "data": {
      "text/html": [
       "<pre style=\"white-space:pre;overflow-x:auto;line-height:normal;font-family:Menlo,'DejaVu Sans Mono',consolas,'Courier New',monospace\"><span style=\"color: #7fbfbf\">           </span><span style=\"color: #000080\">INFO</span>     Summary name env_two/train/train_loss <span style=\"font-weight: bold\">(</span>dice loss<span style=\"font-weight: bold\">)</span> is illegal; using env_two/train/train_loss__dice_loss_ instead.              <a href=\"file:///home/cloud/anaconda3/lib/python3.8/site-packages/tensorboardX/summary.py\"><span style=\"color: #7f7f7f\">summary.py</span></a><span style=\"color: #7f7f7f\">:40</span>\n",
       "</pre>\n"
      ],
      "text/plain": [
       "<rich.jupyter.JupyterRenderable at 0x7f61d5d6fb80>"
      ]
     },
     "metadata": {},
     "output_type": "display_data"
    },
    {
     "data": {
      "text/html": [
       "<pre style=\"white-space:pre;overflow-x:auto;line-height:normal;font-family:Menlo,'DejaVu Sans Mono',consolas,'Courier New',monospace\"><span style=\"color: #7fbfbf\">           </span>METRIC   Round <span style=\"color: #000080; font-weight: bold\">3</span>, collaborator env_two locally_tuned_model_validate result Val Score <span style=\"font-weight: bold\">(</span>Dice Coeff<span style=\"font-weight: bold\">)</span>:       <span style=\"color: #000080; font-weight: bold\">0.450581</span>                   <a href=\"file:///home/cloud/anaconda3/lib/python3.8/site-packages/openfl/interface/interactive_api/experiment.py\"><span style=\"color: #7f7f7f\">experiment.py</span></a><span style=\"color: #7f7f7f\">:116</span>\n",
       "</pre>\n"
      ],
      "text/plain": [
       "<rich.jupyter.JupyterRenderable at 0x7f61d5d6fc70>"
      ]
     },
     "metadata": {},
     "output_type": "display_data"
    },
    {
     "data": {
      "text/html": [
       "<pre style=\"white-space:pre;overflow-x:auto;line-height:normal;font-family:Menlo,'DejaVu Sans Mono',consolas,'Courier New',monospace\"><span style=\"color: #7fbfbf\">           </span><span style=\"color: #000080\">INFO</span>     Summary name env_two/locally_tuned_model_validate/Val Score <span style=\"font-weight: bold\">(</span>Dice Coeff<span style=\"font-weight: bold\">)</span> is illegal; using                                     <a href=\"file:///home/cloud/anaconda3/lib/python3.8/site-packages/tensorboardX/summary.py\"><span style=\"color: #7f7f7f\">summary.py</span></a><span style=\"color: #7f7f7f\">:40</span>\n",
       "                    env_two/locally_tuned_model_validate/Val_Score__Dice_Coeff_ instead.                                                                        \n",
       "</pre>\n"
      ],
      "text/plain": [
       "<rich.jupyter.JupyterRenderable at 0x7f61d5d6faf0>"
      ]
     },
     "metadata": {},
     "output_type": "display_data"
    },
    {
     "data": {
      "text/html": [
       "<pre style=\"white-space:pre;overflow-x:auto;line-height:normal;font-family:Menlo,'DejaVu Sans Mono',consolas,'Courier New',monospace\"><span style=\"color: #7fbfbf\">           </span>METRIC   Round <span style=\"color: #000080; font-weight: bold\">3</span>, collaborator env_two aggregated_model_validate result Val Score <span style=\"font-weight: bold\">(</span>Dice Coeff<span style=\"font-weight: bold\">)</span>:  <span style=\"color: #000080; font-weight: bold\">0.343511</span>                           <a href=\"file:///home/cloud/anaconda3/lib/python3.8/site-packages/openfl/interface/interactive_api/experiment.py\"><span style=\"color: #7f7f7f\">experiment.py</span></a><span style=\"color: #7f7f7f\">:116</span>\n",
       "</pre>\n"
      ],
      "text/plain": [
       "<rich.jupyter.JupyterRenderable at 0x7f61d5d6fc70>"
      ]
     },
     "metadata": {},
     "output_type": "display_data"
    },
    {
     "data": {
      "text/html": [
       "<pre style=\"white-space:pre;overflow-x:auto;line-height:normal;font-family:Menlo,'DejaVu Sans Mono',consolas,'Courier New',monospace\"><span style=\"color: #7fbfbf\">           </span><span style=\"color: #000080\">INFO</span>     Summary name env_two/aggregated_model_validate/Val Score <span style=\"font-weight: bold\">(</span>Dice Coeff<span style=\"font-weight: bold\">)</span> is illegal; using                                        <a href=\"file:///home/cloud/anaconda3/lib/python3.8/site-packages/tensorboardX/summary.py\"><span style=\"color: #7f7f7f\">summary.py</span></a><span style=\"color: #7f7f7f\">:40</span>\n",
       "                    env_two/aggregated_model_validate/Val_Score__Dice_Coeff_ instead.                                                                           \n",
       "</pre>\n"
      ],
      "text/plain": [
       "<rich.jupyter.JupyterRenderable at 0x7f61d5d6f250>"
      ]
     },
     "metadata": {},
     "output_type": "display_data"
    },
    {
     "data": {
      "text/html": [
       "<pre style=\"white-space:pre;overflow-x:auto;line-height:normal;font-family:Menlo,'DejaVu Sans Mono',consolas,'Courier New',monospace\"><span style=\"color: #7fbfbf\">           </span>METRIC   Round <span style=\"color: #000080; font-weight: bold\">3</span>, collaborator Aggregator train result train_loss <span style=\"font-weight: bold\">(</span>dice loss<span style=\"font-weight: bold\">)</span>:   <span style=\"color: #000080; font-weight: bold\">0.661124</span>                                           <a href=\"file:///home/cloud/anaconda3/lib/python3.8/site-packages/openfl/interface/interactive_api/experiment.py\"><span style=\"color: #7f7f7f\">experiment.py</span></a><span style=\"color: #7f7f7f\">:116</span>\n",
       "</pre>\n"
      ],
      "text/plain": [
       "<rich.jupyter.JupyterRenderable at 0x7f61d5d6fca0>"
      ]
     },
     "metadata": {},
     "output_type": "display_data"
    },
    {
     "data": {
      "text/html": [
       "<pre style=\"white-space:pre;overflow-x:auto;line-height:normal;font-family:Menlo,'DejaVu Sans Mono',consolas,'Courier New',monospace\"><span style=\"color: #7fbfbf\">           </span><span style=\"color: #000080\">INFO</span>     Summary name Aggregator/train/train_loss <span style=\"font-weight: bold\">(</span>dice loss<span style=\"font-weight: bold\">)</span> is illegal; using Aggregator/train/train_loss__dice_loss_ instead.        <a href=\"file:///home/cloud/anaconda3/lib/python3.8/site-packages/tensorboardX/summary.py\"><span style=\"color: #7f7f7f\">summary.py</span></a><span style=\"color: #7f7f7f\">:40</span>\n",
       "</pre>\n"
      ],
      "text/plain": [
       "<rich.jupyter.JupyterRenderable at 0x7f61d5d6f790>"
      ]
     },
     "metadata": {},
     "output_type": "display_data"
    },
    {
     "data": {
      "text/html": [
       "<pre style=\"white-space:pre;overflow-x:auto;line-height:normal;font-family:Menlo,'DejaVu Sans Mono',consolas,'Courier New',monospace\"><span style=\"color: #7fbfbf\">           </span>METRIC   Round <span style=\"color: #000080; font-weight: bold\">3</span>, collaborator Aggregator locally_tuned_model_validate result Val Score <span style=\"font-weight: bold\">(</span>Dice Coeff<span style=\"font-weight: bold\">)</span>:    <span style=\"color: #000080; font-weight: bold\">0.450581</span>                   <a href=\"file:///home/cloud/anaconda3/lib/python3.8/site-packages/openfl/interface/interactive_api/experiment.py\"><span style=\"color: #7f7f7f\">experiment.py</span></a><span style=\"color: #7f7f7f\">:116</span>\n",
       "</pre>\n"
      ],
      "text/plain": [
       "<rich.jupyter.JupyterRenderable at 0x7f61d5d6f0d0>"
      ]
     },
     "metadata": {},
     "output_type": "display_data"
    },
    {
     "data": {
      "text/html": [
       "<pre style=\"white-space:pre;overflow-x:auto;line-height:normal;font-family:Menlo,'DejaVu Sans Mono',consolas,'Courier New',monospace\"><span style=\"color: #7fbfbf\">           </span><span style=\"color: #000080\">INFO</span>     Summary name Aggregator/locally_tuned_model_validate/Val Score <span style=\"font-weight: bold\">(</span>Dice Coeff<span style=\"font-weight: bold\">)</span> is illegal; using                                  <a href=\"file:///home/cloud/anaconda3/lib/python3.8/site-packages/tensorboardX/summary.py\"><span style=\"color: #7f7f7f\">summary.py</span></a><span style=\"color: #7f7f7f\">:40</span>\n",
       "                    Aggregator/locally_tuned_model_validate/Val_Score__Dice_Coeff_ instead.                                                                     \n",
       "</pre>\n"
      ],
      "text/plain": [
       "<rich.jupyter.JupyterRenderable at 0x7f61d5d6f970>"
      ]
     },
     "metadata": {},
     "output_type": "display_data"
    },
    {
     "data": {
      "text/html": [
       "<pre style=\"white-space:pre;overflow-x:auto;line-height:normal;font-family:Menlo,'DejaVu Sans Mono',consolas,'Courier New',monospace\"><span style=\"color: #7fbfbf\">           </span>METRIC   Round <span style=\"color: #000080; font-weight: bold\">3</span>, collaborator Aggregator aggregated_model_validate result Val Score <span style=\"font-weight: bold\">(</span>Dice Coeff<span style=\"font-weight: bold\">)</span>:       <span style=\"color: #000080; font-weight: bold\">0.343511</span>                   <a href=\"file:///home/cloud/anaconda3/lib/python3.8/site-packages/openfl/interface/interactive_api/experiment.py\"><span style=\"color: #7f7f7f\">experiment.py</span></a><span style=\"color: #7f7f7f\">:116</span>\n",
       "</pre>\n"
      ],
      "text/plain": [
       "<rich.jupyter.JupyterRenderable at 0x7f61c512e8e0>"
      ]
     },
     "metadata": {},
     "output_type": "display_data"
    },
    {
     "data": {
      "text/html": [
       "<pre style=\"white-space:pre;overflow-x:auto;line-height:normal;font-family:Menlo,'DejaVu Sans Mono',consolas,'Courier New',monospace\"><span style=\"color: #7fbfbf\">           </span><span style=\"color: #000080\">INFO</span>     Summary name Aggregator/aggregated_model_validate/Val Score <span style=\"font-weight: bold\">(</span>Dice Coeff<span style=\"font-weight: bold\">)</span> is illegal; using                                     <a href=\"file:///home/cloud/anaconda3/lib/python3.8/site-packages/tensorboardX/summary.py\"><span style=\"color: #7f7f7f\">summary.py</span></a><span style=\"color: #7f7f7f\">:40</span>\n",
       "                    Aggregator/aggregated_model_validate/Val_Score__Dice_Coeff_ instead.                                                                        \n",
       "</pre>\n"
      ],
      "text/plain": [
       "<rich.jupyter.JupyterRenderable at 0x7f61c512e6a0>"
      ]
     },
     "metadata": {},
     "output_type": "display_data"
    }
   ],
   "source": [
    "# we can stream metrics \n",
    "fl_experiment.stream_metrics()"
   ]
  },
  {
   "cell_type": "code",
   "execution_count": null,
   "metadata": {},
   "outputs": [],
   "source": [
    "\n",
    "best_model = fl_experiment.get_best_model()\n",
    "# we can also retreive last model with get_last_model()\n",
    "\n",
    "# We remove exremove_experiment_datamove_experiment_datamove_experiment_datariment data from director\n",
    "fl_experiment.remove_experiment_data()\n",
    "\n",
    "# Compare initial model \n",
    "validate(initial_model, fed_dataset.get_valid_loader(), 'cpu')\n",
    "\n",
    "# With the best model \n",
    "validate(best_model, fed_dataset.get_valid_loader(), 'cpu')\n",
    "\n",
    "# We can save the best and use it on runtime \n",
    "# TODO save .."
   ]
  },
  {
   "cell_type": "markdown",
   "metadata": {},
   "source": [
    "# We can also improve the model "
   ]
  },
  {
   "cell_type": "code",
   "execution_count": null,
   "metadata": {},
   "outputs": [],
   "source": [
    "MI = ModelInterface(model=best_model, optimizer=optimizer_adam, framework_plugin=framework_adapter)\n",
    "fl_experiment.start(model_provider=MI, task_keeper=TI, data_loader=fed_dataset, rounds_to_train=4, \\\n",
    "                              opt_treatment='CONTINUE_GLOBAL')\n",
    "\n",
    "# optimizer treatment : RESET: the optimizer state is initialized each round from noise\n",
    "#CONTINUE_LOCAL: the optimizer state will be reused locally by every collaborator\n",
    "#CONTINUE_GLOBAL: the optimizer’s state will be aggregated "
   ]
  },
  {
   "cell_type": "markdown",
   "metadata": {},
   "source": [
    "## We can create specific task "
   ]
  },
  {
   "cell_type": "code",
   "execution_count": null,
   "metadata": {},
   "outputs": [],
   "source": [
    "tasks = task_keeper.get_registered_tasks()\n"
   ]
  },
  {
   "cell_type": "code",
   "execution_count": 14,
   "metadata": {},
   "outputs": [],
   "source": [
    "def filter_assigner(collaborators, round_number, **kwargs):\n",
    "    collaborator_task_map = {}\n",
    "    exclude_collaborators = ['env_two', 'env_three']\n",
    "    for collaborator_name in collaborators:\n",
    "        if collaborator_name in exclude_collaborators:\n",
    "            continue\n",
    "        collaborator_task_map[collaborator_name] = [\n",
    "            tasks['train'],\n",
    "            tasks['locally_tuned_model_validate'],\n",
    "            tasks['aggregated_model_validate']\n",
    "        ]\n",
    "    return collaborator_task_map"
   ]
  },
  {
   "cell_type": "code",
   "execution_count": null,
   "metadata": {},
   "outputs": [],
   "source": [
    "def random_assigner(collaborators, round_number, **kwargs):\n",
    "    \"\"\"Assigning task groups randomly while ensuring target distribution\"\"\"\n",
    "    import random\n",
    "    random.shuffle(collaborators)\n",
    "    collaborator_task_map = {}\n",
    "    for idx, col in enumerate(collaborators):\n",
    "        # select only 70% collaborators for training and validation, 30% for validation\n",
    "        if (idx+1)/len(collaborators) <= 0.7:\n",
    "            collaborator_task_map[col] = tasks.values()  # all three tasks\n",
    "        else:\n",
    "            collaborator_task_map[col] = [tasks['aggregated_model_validate']]\n",
    "    return collaborator_task_map\n",
    "\n",
    "# exclude collaborator\n",
    "\n",
    "shard_registry = federation.get_shard_registry()\n",
    "def filter_by_shard_registry_assigner(collaborators, round_number, **kwargs):\n",
    "    collaborator_task_map = {}\n",
    "    for collaborator in collaborators:\n",
    "        col_status = shard_registry.get(collaborator)\n",
    "        if not col_status or not col_status['is_online']:\n",
    "            continue\n",
    "        node_info = col_status['shard_info'].node_info\n",
    "        # Assign train task if collaborator has GPU with total memory more that 8 GB\n",
    "        if len(node_info.cuda_devices) > 0 and node_info.cuda_devices[0].memory_total > 8 * 1024**3:\n",
    "            collaborator_task_map[collaborator] = [\n",
    "                tasks['train'],\n",
    "                tasks['locally_tuned_model_validate'],\n",
    "                tasks['aggregated_model_validate'],\n",
    "            ]\n",
    "        else:\n",
    "            collaborator_task_map[collaborator] = [\n",
    "                tasks['aggregated_model_validate'],\n",
    "            ]\n",
    "    return collaborator_task_map"
   ]
  },
  {
   "cell_type": "code",
   "execution_count": null,
   "metadata": {},
   "outputs": [],
   "source": [
    "## Additional vlaidation round\n",
    "\n",
    "rounds_to_train = 3\n",
    "total_rounds = rounds_to_train + 1 # use fl_experiment.start(..., rounds_to_train=total_rounds,...)\n",
    "\n",
    "def assigner_with_last_round_validation(collaborators, round_number, **kwargs):\n",
    "    collaborator_task_map = {}\n",
    "    for collaborator in collaborators:\n",
    "        if round_number == total_rounds - 1:\n",
    "            collaborator_task_map[collaborator] = [\n",
    "                tasks['aggregated_model_validate'],\n",
    "            ]\n",
    "        else:\n",
    "            collaborator_task_map[collaborator] = [\n",
    "                tasks['train'],\n",
    "                tasks['locally_tuned_model_validate'],\n",
    "                tasks['aggregated_model_validate']\n",
    "            ]\n",
    "    return collaborator_task_map"
   ]
  }
 ],
 "metadata": {
  "interpreter": {
   "hash": "647db5450d57ba7fc4087705c716e42497ce197267b2ecf05c909328f040bacd"
  },
  "kernelspec": {
   "display_name": "Python 3.8.8 ('base')",
   "language": "python",
   "name": "python3"
  },
  "language_info": {
   "codemirror_mode": {
    "name": "ipython",
    "version": 3
   },
   "file_extension": ".py",
   "mimetype": "text/x-python",
   "name": "python",
   "nbconvert_exporter": "python",
   "pygments_lexer": "ipython3",
   "version": "3.8.8"
  },
  "orig_nbformat": 4
 },
 "nbformat": 4,
 "nbformat_minor": 2
}
