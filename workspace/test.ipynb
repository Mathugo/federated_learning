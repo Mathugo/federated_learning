{
 "cells": [
  {
   "cell_type": "code",
   "execution_count": 9,
   "metadata": {},
   "outputs": [],
   "source": [
    "import cv2, os\n",
    "import matplotlib.pyplot as plt\n",
    "from pathlib import Path\n",
    "from openfl.utilities import validate_file_hash\n",
    "import numpy as np\n",
    "from PIL import Image\n",
    "\n"
   ]
  },
  {
   "cell_type": "code",
   "execution_count": null,
   "metadata": {},
   "outputs": [],
   "source": [
    "!wget -nc https://datasets.simula.no/downloads/"
   ]
  },
  {
   "cell_type": "code",
   "execution_count": 9,
   "metadata": {},
   "outputs": [
    {
     "data": {
      "text/plain": [
       "0"
      ]
     },
     "execution_count": 9,
     "metadata": {},
     "output_type": "execute_result"
    }
   ],
   "source": [
    "data_folder = Path.cwd() / 'data'\n",
    "zip_file_path = data_folder / 'kvasir.zip'\n",
    "os.makedirs(data_folder, exist_ok=True)\n",
    "os.system(\n",
    "    'wget -nc'\n",
    "    \" 'https://datasets.simula.no/downloads/\"\n",
    "    \"hyper-kvasir/hyper-kvasir-segmented-images.zip'\"\n",
    "    f' -O {zip_file_path.relative_to(Path.cwd())}'\n",
    ")\n",
    "zip_sha384 = ('e30d18a772c6520476e55b610a4db457237f151e'\n",
    "                '19182849d54b49ae24699881c1e18e0961f77642be900450ef8b22e7')\n",
    "validate_file_hash(zip_file_path, zip_sha384)\n",
    "os.system(f'unzip -n {zip_file_path.relative_to(Path.cwd())}'\n",
    "            f' -d {data_folder.relative_to(Path.cwd())}')"
   ]
  },
  {
   "cell_type": "code",
   "execution_count": 11,
   "metadata": {},
   "outputs": [
    {
     "data": {
      "text/plain": [
       "'/home/cloud/Projects/federated_learning'"
      ]
     },
     "execution_count": 11,
     "metadata": {},
     "output_type": "execute_result"
    }
   ],
   "source": [
    "os.getcwd()"
   ]
  },
  {
   "cell_type": "code",
   "execution_count": 17,
   "metadata": {},
   "outputs": [],
   "source": [
    "#mask = cv2.imread(\"data/segmented-images/masks/cju0qkwl35piu0993l0dewei2.jpg\", 0)\n",
    "mask = Image.open(\"data/segmented-images/masks/cju0qkwl35piu0993l0dewei2.jpg\")\n",
    "mask_semantic = Image.open(\"envoy_vanilla/dataset/segmented-images/masks/2022-04-21__15_02_30_label_ground-truth_semantic.png\")\n",
    "mask_ground_truth = Image.open(\"envoy_vanilla/dataset/segmented-images/masks/2022-04-21__15_02_30_label_ground-truth.png\")"
   ]
  },
  {
   "cell_type": "code",
   "execution_count": 18,
   "metadata": {},
   "outputs": [
    {
     "data": {
      "text/plain": [
       "255"
      ]
     },
     "execution_count": 18,
     "metadata": {},
     "output_type": "execute_result"
    }
   ],
   "source": [
    "mask = np.asarray(mask)\n",
    "semantic = np.asarray(mask_semantic)\n",
    "ground_truth = np.asarray(mask_ground_truth)\n",
    "mask.shape\n",
    "np.max(mask)\n",
    "#mask[:, :, 0]"
   ]
  },
  {
   "cell_type": "code",
   "execution_count": null,
   "metadata": {},
   "outputs": [
    {
     "ename": "",
     "evalue": "",
     "output_type": "error",
     "traceback": [
      "\u001b[1;31mCanceled future for execute_request message before replies were done"
     ]
    },
    {
     "ename": "",
     "evalue": "",
     "output_type": "error",
     "traceback": [
      "\u001b[1;31mThe Kernel crashed while executing code in the the current cell or a previous cell. Please review the code in the cell(s) to identify a possible cause of the failure. Click <a href='https://aka.ms/vscodeJupyterKernelCrash'>here</a> for more info. View Jupyter <a href='command:jupyter.viewOutput'>log</a> for further details."
     ]
    }
   ],
   "source": []
  },
  {
   "cell_type": "code",
   "execution_count": 21,
   "metadata": {},
   "outputs": [
    {
     "data": {
      "text/plain": [
       "(529, 622, 3)"
      ]
     },
     "execution_count": 21,
     "metadata": {},
     "output_type": "execute_result"
    }
   ],
   "source": [
    "mask.shape"
   ]
  },
  {
   "cell_type": "code",
   "execution_count": 20,
   "metadata": {},
   "outputs": [
    {
     "data": {
      "text/plain": [
       "(1296, 2304)"
      ]
     },
     "execution_count": 20,
     "metadata": {},
     "output_type": "execute_result"
    }
   ],
   "source": [
    "semantic.shape"
   ]
  }
 ],
 "metadata": {
  "interpreter": {
   "hash": "647db5450d57ba7fc4087705c716e42497ce197267b2ecf05c909328f040bacd"
  },
  "kernelspec": {
   "display_name": "Python 3.8.8 ('base')",
   "language": "python",
   "name": "python3"
  },
  "language_info": {
   "codemirror_mode": {
    "name": "ipython",
    "version": 3
   },
   "file_extension": ".py",
   "mimetype": "text/x-python",
   "name": "python",
   "nbconvert_exporter": "python",
   "pygments_lexer": "ipython3",
   "version": "3.8.8"
  },
  "orig_nbformat": 4
 },
 "nbformat": 4,
 "nbformat_minor": 2
}
